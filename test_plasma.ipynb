{
  "nbformat": 4,
  "nbformat_minor": 0,
  "metadata": {
    "colab": {
      "name": "test_plasma.ipynb",
      "provenance": [],
      "collapsed_sections": []
    },
    "kernelspec": {
      "name": "python3",
      "display_name": "Python 3"
    },
    "language_info": {
      "name": "python"
    }
  },
  "cells": [
    {
      "cell_type": "code",
      "source": [
        "import numpy as np\n",
        "\n",
        "from Population import Electron\n",
        "from Population import Proton\n",
        "\n",
        "from Distribution import Dirac\n",
        "from Distribution import Maxwellian"
      ],
      "metadata": {
        "id": "mJQApC8_1vFC"
      },
      "execution_count": null,
      "outputs": []
    },
    {
      "cell_type": "code",
      "source": [
        "print(Maxwellian())"
      ],
      "metadata": {
        "id": "i5TGTMtrcJHy",
        "colab": {
          "base_uri": "https://localhost:8080/"
        },
        "outputId": "6ad6aecb-32a0-45a8-ae8b-50d1ebce3a9b"
      },
      "execution_count": null,
      "outputs": [
        {
          "output_type": "stream",
          "name": "stdout",
          "text": [
            "            Distribution :               Maxwellian\n",
            "                 density :                      1.0\n",
            "             temperature :                      0.1\n"
          ]
        }
      ]
    },
    {
      "cell_type": "code",
      "source": [
        "e=Electron()"
      ],
      "metadata": {
        "id": "plqbz3eWMVNx"
      },
      "execution_count": null,
      "outputs": []
    },
    {
      "cell_type": "code",
      "source": [
        "print(e)"
      ],
      "metadata": {
        "colab": {
          "base_uri": "https://localhost:8080/"
        },
        "id": "Phiuu_jpM0xs",
        "outputId": "2eef4e80-d0b7-4534-cfce-9b725a91982f"
      },
      "execution_count": null,
      "outputs": [
        {
          "output_type": "stream",
          "name": "stdout",
          "text": [
            "......................................................\n",
            "                    name :                 electron\n",
            "                    mass :                      1.0\n",
            "                  charge :                     -1.0\n",
            "            Distribution :                    Dirac\n",
            "                 density :                      1.0\n"
          ]
        }
      ]
    },
    {
      "cell_type": "code",
      "source": [
        "print(Proton(distribution=Maxwellian()))"
      ],
      "metadata": {
        "colab": {
          "base_uri": "https://localhost:8080/"
        },
        "id": "u7TDv_raSf6D",
        "outputId": "e06dd468-4431-4e50-e932-e0b08b102645"
      },
      "execution_count": null,
      "outputs": [
        {
          "output_type": "stream",
          "name": "stdout",
          "text": [
            "......................................................\n",
            "                    name :                   proton\n",
            "                    mass :                   1836.0\n",
            "                  charge :                      1.0\n",
            "            Distribution :               Maxwellian\n",
            "                 density :                      1.0\n",
            "             temperature :                      0.1\n"
          ]
        }
      ]
    },
    {
      "cell_type": "code",
      "source": [
        "plasma=Plasma(populations=[Electron(), Proton()], B=0.01)"
      ],
      "metadata": {
        "id": "M6I5wPvbIMDX"
      },
      "execution_count": null,
      "outputs": []
    },
    {
      "cell_type": "code",
      "source": [
        "print(plasma)"
      ],
      "metadata": {
        "id": "jvaItIYecD2w",
        "colab": {
          "base_uri": "https://localhost:8080/"
        },
        "outputId": "3e6aeea0-9124-41c0-c042-380b98a0d070"
      },
      "execution_count": null,
      "outputs": [
        {
          "output_type": "stream",
          "name": "stdout",
          "text": [
            "======================================================\n",
            "                 B field :                     0.01\n",
            "......................................................\n",
            "                    name :                 electron\n",
            "                    mass :                      1.0\n",
            "                  charge :                     -1.0\n",
            "            Distribution :                    Dirac\n",
            "                 density :                      1.0\n",
            "......................................................\n",
            "                    name :                   proton\n",
            "                    mass :                   1836.0\n",
            "                  charge :                      1.0\n",
            "            Distribution :                    Dirac\n",
            "                 density :                      1.0\n",
            "^^^^^^^^^^^^^^^^^^^^^^^^^^^^^^^^^^^^^^^^^^^^^^^^^^^^^^\n",
            "  w_cyclotron   electron :                    -0.01\n",
            "  w_plasma      electron :                      1.0\n",
            "  |w_c / wp|    electron :                     0.01\n",
            "  w_cyclotron     proton :    5.446623093681918e-06\n",
            "  w_plasma        proton :      0.02333800140046683\n",
            "  |w_c / wp|      proton :   0.00023338001400466832\n",
            "\n"
          ]
        }
      ]
    },
    {
      "cell_type": "code",
      "source": [
        "plasma.wp"
      ],
      "metadata": {
        "id": "Y3lkJCCMIMGv",
        "colab": {
          "base_uri": "https://localhost:8080/"
        },
        "outputId": "f863806c-6c37-4928-a77e-6481b800cd11"
      },
      "execution_count": null,
      "outputs": [
        {
          "output_type": "execute_result",
          "data": {
            "text/plain": [
              "{'electron': 1.0, 'proton': 0.02333800140046683}"
            ]
          },
          "metadata": {},
          "execution_count": 37
        }
      ]
    },
    {
      "cell_type": "code",
      "source": [
        "plasma.wc[\"proton\"]"
      ],
      "metadata": {
        "colab": {
          "base_uri": "https://localhost:8080/"
        },
        "id": "Xm99pX307TOy",
        "outputId": "a023a4c1-49ea-4b74-f597-b0620bb816ab"
      },
      "execution_count": null,
      "outputs": [
        {
          "output_type": "execute_result",
          "data": {
            "text/plain": [
              "5.446623093681918e-06"
            ]
          },
          "metadata": {},
          "execution_count": 38
        }
      ]
    }
  ]
}