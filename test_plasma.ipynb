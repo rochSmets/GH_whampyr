{
 "cells": [
  {
   "cell_type": "code",
   "execution_count": 19,
   "metadata": {
    "id": "mJQApC8_1vFC"
   },
   "outputs": [],
   "source": [
    "import sys\n",
    "sys.path.append(\".\")\n",
    "\n",
    "import numpy as np\n",
    "\n",
    "from whampyr.population import Electron\n",
    "from whampyr.population import Proton\n",
    "\n",
    "from whampyr.distribution import Dirac\n",
    "from whampyr.distribution import Maxwellian\n",
    "\n",
    "from whampyr.plasma import Plasma"
   ]
  },
  {
   "cell_type": "code",
   "execution_count": 20,
   "metadata": {
    "colab": {
     "base_uri": "https://localhost:8080/"
    },
    "id": "i5TGTMtrcJHy",
    "outputId": "6ad6aecb-32a0-45a8-ae8b-50d1ebce3a9b"
   },
   "outputs": [
    {
     "name": "stdout",
     "output_type": "stream",
     "text": [
      "            Distribution :               Maxwellian\n",
      "                 density :                      1.0\n",
      "             temperature :                      0.1\n"
     ]
    }
   ],
   "source": [
    "print(Maxwellian())"
   ]
  },
  {
   "cell_type": "code",
   "execution_count": 21,
   "metadata": {
    "id": "plqbz3eWMVNx"
   },
   "outputs": [],
   "source": [
    "e=Electron()"
   ]
  },
  {
   "cell_type": "code",
   "execution_count": 22,
   "metadata": {
    "colab": {
     "base_uri": "https://localhost:8080/"
    },
    "id": "Phiuu_jpM0xs",
    "outputId": "2eef4e80-d0b7-4534-cfce-9b725a91982f"
   },
   "outputs": [
    {
     "name": "stdout",
     "output_type": "stream",
     "text": [
      "......................................................\n",
      "                    name :                 electron\n",
      "                    mass :                      1.0\n",
      "                  charge :                     -1.0\n",
      "            Distribution :                    Dirac\n",
      "                 density :                      1.0\n"
     ]
    }
   ],
   "source": [
    "print(e)"
   ]
  },
  {
   "cell_type": "code",
   "execution_count": 23,
   "metadata": {
    "colab": {
     "base_uri": "https://localhost:8080/"
    },
    "id": "u7TDv_raSf6D",
    "outputId": "e06dd468-4431-4e50-e932-e0b08b102645"
   },
   "outputs": [
    {
     "name": "stdout",
     "output_type": "stream",
     "text": [
      "......................................................\n",
      "                    name :                   proton\n",
      "                    mass :                   1836.0\n",
      "                  charge :                      1.0\n",
      "            Distribution :               Maxwellian\n",
      "                 density :                      1.0\n",
      "             temperature :                      0.1\n"
     ]
    }
   ],
   "source": [
    "print(Proton(distribution=Maxwellian()))"
   ]
  },
  {
   "cell_type": "code",
   "execution_count": 24,
   "metadata": {
    "id": "M6I5wPvbIMDX"
   },
   "outputs": [],
   "source": [
    "plasma=Plasma(populations=[Electron(), Proton()], B=0.01)"
   ]
  },
  {
   "cell_type": "code",
   "execution_count": 25,
   "metadata": {
    "colab": {
     "base_uri": "https://localhost:8080/"
    },
    "id": "jvaItIYecD2w",
    "outputId": "3e6aeea0-9124-41c0-c042-380b98a0d070"
   },
   "outputs": [
    {
     "name": "stdout",
     "output_type": "stream",
     "text": [
      "======================================================\n",
      "                 B field :                     0.01\n",
      "......................................................\n",
      "                    name :                 electron\n",
      "                    mass :                      1.0\n",
      "                  charge :                     -1.0\n",
      "            Distribution :                    Dirac\n",
      "                 density :                      1.0\n",
      "......................................................\n",
      "                    name :                   proton\n",
      "                    mass :                   1836.0\n",
      "                  charge :                      1.0\n",
      "            Distribution :                    Dirac\n",
      "                 density :                      1.0\n",
      "^^^^^^^^^^^^^^^^^^^^^^^^^^^^^^^^^^^^^^^^^^^^^^^^^^^^^^\n",
      "  w_cyclotron   electron :                    -0.01\n",
      "  w_plasma      electron :                      1.0\n",
      "  |w_c / wp|    electron :                     0.01\n",
      "  w_cyclotron     proton :    5.446623093681918e-06\n",
      "  w_plasma        proton :      0.02333800140046683\n",
      "  |w_c / wp|      proton :   0.00023338001400466832\n",
      "\n"
     ]
    }
   ],
   "source": [
    "print(plasma)"
   ]
  },
  {
   "cell_type": "code",
   "execution_count": 26,
   "metadata": {
    "colab": {
     "base_uri": "https://localhost:8080/"
    },
    "id": "Y3lkJCCMIMGv",
    "outputId": "f863806c-6c37-4928-a77e-6481b800cd11"
   },
   "outputs": [
    {
     "data": {
      "text/plain": [
       "{'electron': 1.0, 'proton': 0.02333800140046683}"
      ]
     },
     "execution_count": 26,
     "metadata": {},
     "output_type": "execute_result"
    }
   ],
   "source": [
    "plasma.wp"
   ]
  },
  {
   "cell_type": "code",
   "execution_count": 27,
   "metadata": {
    "colab": {
     "base_uri": "https://localhost:8080/"
    },
    "id": "Xm99pX307TOy",
    "outputId": "a023a4c1-49ea-4b74-f597-b0620bb816ab"
   },
   "outputs": [
    {
     "data": {
      "text/plain": [
       "5.446623093681918e-06"
      ]
     },
     "execution_count": 27,
     "metadata": {},
     "output_type": "execute_result"
    }
   ],
   "source": [
    "plasma.wc[\"proton\"]"
   ]
  },
  {
   "cell_type": "code",
   "execution_count": null,
   "metadata": {},
   "outputs": [],
   "source": []
  }
 ],
 "metadata": {
  "colab": {
   "collapsed_sections": [],
   "name": "test_plasma.ipynb",
   "provenance": []
  },
  "kernelspec": {
   "display_name": "Python 3 (ipykernel)",
   "language": "python",
   "name": "python3"
  },
  "language_info": {
   "codemirror_mode": {
    "name": "ipython",
    "version": 3
   },
   "file_extension": ".py",
   "mimetype": "text/x-python",
   "name": "python",
   "nbconvert_exporter": "python",
   "pygments_lexer": "ipython3",
   "version": "3.9.10"
  }
 },
 "nbformat": 4,
 "nbformat_minor": 4
}
